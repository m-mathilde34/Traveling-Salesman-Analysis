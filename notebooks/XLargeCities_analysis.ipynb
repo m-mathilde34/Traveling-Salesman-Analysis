{
 "cells": [
  {
   "cell_type": "code",
   "execution_count": 1,
   "id": "1b8d0c8e-2d51-4cfc-827f-85147a755409",
   "metadata": {},
   "outputs": [],
   "source": [
    "import pandas as pd\n",
    "import numpy as np\n",
    "import matplotlib.pyplot as plt\n",
    "import seaborn as sns"
   ]
  },
  {
   "cell_type": "code",
   "execution_count": 2,
   "id": "9e2ca88f-6398-4984-93db-f9fea701fbaa",
   "metadata": {},
   "outputs": [],
   "source": [
    "path_to_data = \"../data/\""
   ]
  },
  {
   "cell_type": "code",
   "execution_count": null,
   "id": "033ee353-cc8b-4d6f-97e6-23ad7eb44463",
   "metadata": {},
   "outputs": [],
   "source": [
    "filename = \"17_GA_XLargeCities_017_Results.csv\"\n",
    "\n",
    "dataframe = pd.read_csv(path_to_data + filename)\n",
    "dataframe.head()"
   ]
  },
  {
   "cell_type": "code",
   "execution_count": null,
   "id": "6aaec81d-877d-4cdd-82d1-80fb5aa86984",
   "metadata": {},
   "outputs": [],
   "source": [
    "fig, axs = plt.subplots(1, 2, figsize=(12, 4))\n",
    "\n",
    "sns.lineplot(data=dataframe, x=\"generation\", y=\"average_fitness\", label=\"1,100,40,0.6,1\", ax=axs[0])\n",
    "sns.lineplot(data=dataframe, x=\"generation\", y=\"best_fitness\", label=\"1,100,40,0.6,1\", ax=axs[1])\n",
    "\n",
    "sns.lineplot(data=dataframe2, x=\"generation\", y=\"average_fitness\", label=\"2,100,40,0.1,1\", ax=axs[0])\n",
    "sns.lineplot(data=dataframe2, x=\"generation\", y=\"best_fitness\", label=\"2,100,40,0.1,1\", ax=axs[1])\n",
    "\n",
    "sns.lineplot(data=dataframe3, x=\"generation\", y=\"average_fitness\", label=\"3,100,20,0.1,1\", ax=axs[0])\n",
    "sns.lineplot(data=dataframe3, x=\"generation\", y=\"best_fitness\", label=\"3,100,20,0.1,1\", ax=axs[1])\n",
    "\n",
    "sns.lineplot(data=dataframe4, x=\"generation\", y=\"average_fitness\", label=\"4,100,20,0.6,1\", ax=axs[0])\n",
    "sns.lineplot(data=dataframe4, x=\"generation\", y=\"best_fitness\", label=\"4,100,20,0.6,1\", ax=axs[1])\n",
    "\n",
    "sns.lineplot(data=dataframe5, x=\"generation\", y=\"average_fitness\", label=\"5,50000,40,0.1,1\", ax=axs[0])\n",
    "sns.lineplot(data=dataframe5, x=\"generation\", y=\"best_fitness\", label=\"5,50000,40,0.1,1\", ax=axs[1])\n",
    "\n",
    "sns.lineplot(data=dataframe6, x=\"generation\", y=\"average_fitness\", label=\"6,50000,20000,0.1,1\", ax=axs[0])\n",
    "sns.lineplot(data=dataframe6, x=\"generation\", y=\"best_fitness\", label=\"6,50000,20000,0.1,1\", ax=axs[1])\n",
    "\n",
    "axs[0].set_title(\"Average Fitness\")\n",
    "axs[1].set_title(\"Best Fitness\")\n",
    "plt.legend()\n",
    "plt.show()"
   ]
  }
 ],
 "metadata": {
  "kernelspec": {
   "display_name": "ga_analysis",
   "language": "python",
   "name": "ga_analysis"
  },
  "language_info": {
   "codemirror_mode": {
    "name": "ipython",
    "version": 3
   },
   "file_extension": ".py",
   "mimetype": "text/x-python",
   "name": "python",
   "nbconvert_exporter": "python",
   "pygments_lexer": "ipython3",
   "version": "3.11.5"
  }
 },
 "nbformat": 4,
 "nbformat_minor": 5
}
